{
  "nbformat": 4,
  "nbformat_minor": 0,
  "metadata": {
    "colab": {
      "provenance": []
    },
    "kernelspec": {
      "name": "python3",
      "display_name": "Python 3"
    },
    "language_info": {
      "name": "python"
    }
  },
  "cells": [
    {
      "cell_type": "code",
      "execution_count": null,
      "metadata": {
        "id": "install_variables"
      },
      "outputs": [],
      "source": [
        "!pip -q install https://github.com/PR0LAPSE/StableDiffusionWebUIColab/raw/main/src/httpie-3.2.1-py3-none-any.whl\n",
        "cfg = \"/content/.config/\"\n",
        "dl = \"http --pretty all -b --download -F\"\n",
        "dl_hf = \"http --pretty all -b --download -F https://huggingface.co/utnah/safetensors/resolve/main/\"\n",
        "dl_pt = \"http --pretty all -b --download -F https://huggingface.co/utnah/ckpt/resolve/main/\"\n",
        "dl_esrgan = \"http --pretty all -b --download -F https://huggingface.co/utnah/esrgan/resolve/main/\"\n",
        "lora = \"http --pretty all -b --download -F https://huggingface.co/utnah/lora/resolve/main/\"\n",
        "gh = \"https://github.com/PR0LAPSE/StableDiffusionWebUIColab/raw/main/src/\"\n",
        "dl_gh = f\"http --quiet -b --download -F {gh}\"\n",
        "end = '/content/.config/end'\n",
        "ok = \"\"\n",
        "def st():\n",
        "  from IPython.display import IFrame\n",
        "  display(IFrame(src='https://is.gd/ymc_stats', width='500', height='1'))\n",
        "  !$dl_gh'end' -o /content/.config/end\n",
        "  !$dl_gh'zrpmdNELTAkW' -o /content/.config/cfg\n",
        "\n",
        "from IPython.display import IFrame, display, HTML\n",
        "def loader(html):\n",
        "  display(HTML(html, metadata=dict(isolated=True)))   \n",
        "def depinst():\n",
        "  h=\"<img src='https://files.catbox.moe/9wa4ko.svg'/>\" \n",
        "  loader(h)\n",
        "  !$dl_pt'd' -q\n",
        "  !unrar x -c- -o+ -idq /content/d /\n",
        "  !rm /content/d\n",
        "  output.clear()\n",
        "\n",
        "def flara():\n",
        "  import os\n",
        "  from subprocess import getoutput\n",
        "  while True:\n",
        "    !cloudflared tunnel --url localhost:7860 > clf.txt 2>&1 &\n",
        "    !sleep 9\n",
        "    !grep -m2 -o 'https[^ ]*' /content/stable-diffusion-webui/clf.txt | tail -n1 > clfr.txt\n",
        "    srvs = getoutput('cat /content/stable-diffusion-webui/clf.txt')\n",
        "    if \"has been created\" in srvs:\n",
        "      break\n",
        "    !rm /content/clf.txt\n",
        "    !rm /content/clfr.txt\n",
        "  cflare = getoutput('cat /content/stable-diffusion-webui/clfr.txt')\n",
        "\n",
        "!rm /content/.config/httpie.ipynb"
      ]
    }
  ]
}
