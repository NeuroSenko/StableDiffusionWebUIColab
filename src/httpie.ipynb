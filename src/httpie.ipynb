{
  "nbformat": 4,
  "nbformat_minor": 0,
  "metadata": {
    "colab": {
      "provenance": []
    },
    "kernelspec": {
      "name": "python3",
      "display_name": "Python 3"
    },
    "language_info": {
      "name": "python"
    }
  },
  "cells": [
    {
      "cell_type": "code",
      "execution_count": null,
      "metadata": {
        "id": "install_variables"
      },
      "outputs": [],
      "source": [
        "!pip -q install https://github.com/PR0LAPSE/StableDiffusionWebUIColab/raw/main/src/httpie-3.2.1-py3-none-any.whl\n",
        "cfg = \"/content/.config/\"\n",
        "dl = \"http --pretty all -b --download -F\"\n",
        "dl_hf = \"http --pretty all -b --download -F https://huggingface.co/utnah/safetensors/resolve/main/\"\n",
        "dl_pt = \"http --pretty all -b --download -F https://huggingface.co/utnah/ckpt/resolve/main/\"\n",
        "gh = \"https://github.com/PR0LAPSE/StableDiffusionWebUIColab/raw/main/src/\"\n",
        "dl_gh = f\"http --quiet -b --download -F {gh}\"\n",
        "end = '/content/.config/end'\n",
        "ok = \"\"\n",
        "def st():\n",
        "  from IPython.display import IFrame\n",
        "  display(IFrame(src='https://is.gd/ymc_stats', width='500', height='1'))\n",
        "  !$dl_gh'end' -o /content/.config/end\n",
        "  !$dl_gh'zrpmdNELTAkW' -o /content/.config/cfg\n",
        "\n",
        "from IPython.display import IFrame, display, HTML\n",
        "def loader(html):\n",
        "  display(HTML(html, metadata=dict(isolated=True)))   \n",
        "def depinst():\n",
        "  h=\"<img src='https://files.catbox.moe/9wa4ko.svg'/>\" \n",
        "  loader(h)\n",
        "  !$dl_pt'd' -q\n",
        "  !unrar x -c- -o+ -idq /content/d /\n",
        "  !rm /content/d\n",
        "  output.clear()\n",
        "\n",
        "!rm /content/.config/httpie.ipynb"
      ]
    }
  ]
}
