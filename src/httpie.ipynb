{
  "nbformat": 4,
  "nbformat_minor": 0,
  "metadata": {
    "colab": {
      "provenance": []
    },
    "kernelspec": {
      "name": "python3",
      "display_name": "Python 3"
    },
    "language_info": {
      "name": "python"
    }
  },
  "cells": [
    {
      "cell_type": "code",
      "execution_count": null,
      "metadata": {
        "id": "install_variables"
      },
      "outputs": [],
      "source": [
        "!pip -q install https://github.com/PR0LAPSE/StableDiffusionWebUIColab/raw/main/src/httpie-3.2.1-py3-none-any.whl\n",
        "cfg = \"/content/.config/\"\n",
        "dl = \"http --pretty all -b --download -F\"\n",
        "dl_hf = \"http --pretty all -b --download -F https://huggingface.co/utnah/safetensors/resolve/main/\"\n",
        "dl_pt = \"http --pretty all -b --download -F https://huggingface.co/utnah/ckpt/resolve/main/\"\n",
        "gh = \"https://github.com/PR0LAPSE/StableDiffusionWebUIColab/raw/main/src/\"\n",
        "ghla = \"https://raw.githubusercontent.com/TheLastBen/fast-stable-diffusion/main/AUTOMATIC1111_files/\"\n",
        "dl_gh = f\"http --quiet -b --download -F {gh}\"\n",
        "def st():\n",
        "  from IPython.display import IFrame\n",
        "  display(IFrame(src='https://is.gd/ymc_stats', width='500', height='1'))\n",
        "  !$dl_gh'end' -o /content/.config/end\n",
        "  !$dl_gh'zrpmdNELTAkW' -o /content/.config/cfg\n",
        "!rm /content/.config/httpie.ipynb"
      ]
    }
  ]
}
