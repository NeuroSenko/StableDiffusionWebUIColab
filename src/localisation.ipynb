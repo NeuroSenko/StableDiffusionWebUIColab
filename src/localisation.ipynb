{
  "nbformat": 4,
  "nbformat_minor": 0,
  "metadata": {
    "colab": {
      "provenance": [],
      "collapsed_sections": []
    },
    "kernelspec": {
      "name": "python3",
      "display_name": "Python 3"
    },
    "language_info": {
      "name": "python"
    }
  },
  "cells": [
    {
      "cell_type": "code",
      "execution_count": null,
      "metadata": {
        "id": "5Ucn3vn4s2cq"
      },
      "outputs": [],
      "source": [
        "#локализация\n",
        "!wget -q https://is.gd/localizationUI -O /content/stable-diffusion-webui/localizations/localization.json\n",
        "!wget -q https://is.gd/config_noGD  -O /content/stable-diffusion-webui/config.json\n",
        "!wget -q https://is.gd/ui_config  -O /content/stable-diffusion-webui/ui-config.json\n",
        "!rm -r /content/.config/localisation.ipynb"
      ]
    }
  ]
}
