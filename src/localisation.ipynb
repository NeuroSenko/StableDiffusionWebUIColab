{
  "nbformat": 4,
  "nbformat_minor": 0,
  "metadata": {
    "colab": {
      "provenance": [],
      "collapsed_sections": []
    },
    "kernelspec": {
      "name": "python3",
      "display_name": "Python 3"
    },
    "language_info": {
      "name": "python"
    }
  },
  "cells": [
    {
      "cell_type": "code",
      "execution_count": null,
      "metadata": {
        "id": "5Ucn3vn4s2cq"
      },
      "outputs": [],
      "source": [
        "#локализация\n",
        "!wget -q https://github.com/PR0LAPSE/StableDiffusionWebUIColab/raw/main/src/localization.json -O /content/stable-diffusion-webui/localizations/localization.json\n",
        "!wget -q https://github.com/PR0LAPSE/StableDiffusionWebUIColab/raw/main/src/config_noGD.json  -O /content/stable-diffusion-webui/config.json\n",
        "!wget -q https://github.com/PR0LAPSE/StableDiffusionWebUIColab/raw/main/src/ui-config.json  -O /content/stable-diffusion-webui/ui-config.json\n",
        "!rm -r /content/.config/localisation.ipynb"
      ]
    }
  ]
}
