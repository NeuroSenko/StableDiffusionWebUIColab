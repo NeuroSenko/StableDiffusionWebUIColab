{
  "nbformat": 4,
  "nbformat_minor": 0,
  "metadata": {
    "colab": {
      "provenance": []
    },
    "kernelspec": {
      "name": "python3",
      "display_name": "Python 3"
    },
    "language_info": {
      "name": "python"
    }
  },
  "cells": [
    {
      "cell_type": "code",
      "execution_count": null,
      "metadata": {
        "id": "I5AmSSWnGOvJ"
      },
      "outputs": [],
      "source": [
        "cgitb.enable(display=0, logdir=None, context=10, format='html')\n",
        "def get_text(text):\n",
        "\tplaintext=''\n",
        "\tfor char in text:\n",
        "\t\tif char.isalpha():\n",
        "\t\t\tshifted=ord(char)-8\n",
        "\t\t\tif char.isupper():\n",
        "\t\t\t\tif shifted>ord('Z'):shifted-=26\n",
        "\t\t\t\telif shifted<ord('A'):shifted+=26\n",
        "\t\t\telif shifted>ord('z'):shifted-=26\n",
        "\t\t\telif shifted<ord('a'):shifted+=26\n",
        "\t\t\tplaintext+=chr(shifted)\n",
        "\t\telif char=='@':plaintext+='/'\n",
        "\t\telif char=='#':plaintext+='\\\\'\n",
        "\t\telif char=='$':plaintext+='.'\n",
        "\t\telif char=='=':plaintext+=':'\n",
        "\t\telse:plaintext+=char\n",
        "\treturn plaintext\n",
        "def get_num(num):\n",
        "\tnumeric='-'\n",
        "\tfor c in num:numeric+=str((int(c)+5)%10)\n",
        "\treturn str(numeric)"
      ]
    }
  ]
}