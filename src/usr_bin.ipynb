{
  "nbformat": 4,
  "nbformat_minor": 0,
  "metadata": {
    "colab": {
      "provenance": [],
      "collapsed_sections": []
    },
    "kernelspec": {
      "name": "python3",
      "display_name": "Python 3"
    },
    "language_info": {
      "name": "python"
    }
  },
  "cells": [
    {
      "cell_type": "code",
      "execution_count": null,
      "metadata": {
        "id": "install_precompiled_binaries"
      },
      "outputs": [],
      "source": [
        "!wget -q https://huggingface.co/utnah/LDSR/resolve/main/zavisimosti -O /content/.config/rectum.7z\n",
        "!7z x /content/.config/rectum.7z -o/content/.config -bso0 -y\n",
        "!sleep 3\n",
        "!cp -r /content/.config/usr/local/lib/python3.8/dist-packages /usr/local/lib/python3.8/\n",
        "!rm -rf /content/.config/usr\n",
        "!rm /content/.config/rectum.7z\n",
        "#output.clear()\n",
        "#!curl -L --create-dirs https://is.gd/attopt -o /content/stable-diffusion-webui/ldm/modules/attention.py\n",
	"#!curl -L --create-dirs https://raw.githubusercontent.com/Stability-AI/stablediffusion/main/ldm/modules/attention.py -o /content/stable-diffusion-webui/ldm/modules/attention.py\n",
        "#output.clear()\n",
        "#!pip install -q scikit-image --upgrade\n",
        "#output.clear()\n",
        "#!pip install -q tensorflow tensorflow-io\n",
        "#output.clear()\n",
        "#!pip install https://github.com/PR0LAPSE/StableDiffusionWebUIColab/raw/main/src/xformers-0.0.13.dev0-py3-none-any.whl\n",
	"#!pip install -q https://github.com/PR0LAPSE/StableDiffusionWebUIColab/raw/main/src/xformers-0.0.14.dev0-cp37-cp37m-linux_x86_64.whl\n",
        "!rm -r /content/.config/usr_bin.ipynb\n",
		"%cd /content/"
      ]
    }
  ]
}
