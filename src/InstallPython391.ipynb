{
  "nbformat": 4,
  "nbformat_minor": 0,
  "metadata": {
    "colab": {
      "provenance": []
    },
    "kernelspec": {
      "name": "python3",
      "display_name": "Python 3"
    },
    "language_info": {
      "name": "python"
    }
  },
  "cells": [
    {
      "cell_type": "code",
      "execution_count": null,
      "metadata": {
        "id": "InstallPython391"
      },
      "outputs": [],
      "source": [
        "print(\"\\033[01;38;05;184mподождите, нужно обновить Python, это займет 2 минуты\")\n",
        "from google.colab import output\n",
        "!wget -q https://github.com/PR0LAPSE/StableDiffusionWebUIColab/raw/main/src/mc3py39.sh -O /content/.config/mc3py39.sh\n",
        "!chmod +x /content/.config/mc3py39.sh\n",
        "output.clear()\n",
        "!bash /content/.config/mc3py39.sh -b -f -p /usr/local\n",
        "output.clear()\n",
        "!conda install -q -y jupyter\n",
        "output.clear()\n",
        "!conda install -q -y google-colab -c conda-forge\n",
        "output.clear()\n",
        "!python -m ipykernel install --name \"py39\" --user\n",
        "!rm -f /content/.config/mc3py39.sh\n",
        "output.clear()\n",
        "print(\"\\033[01;38;05;34mPython обновлен с версии 3.7.15 на 3.9.1\")"
      ]
    }
  ]
}