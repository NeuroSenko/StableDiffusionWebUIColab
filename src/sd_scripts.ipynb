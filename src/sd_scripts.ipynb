{
  "nbformat": 4,
  "nbformat_minor": 0,
  "metadata": {
    "colab": {
      "provenance": [],
      "collapsed_sections": []
    },
    "kernelspec": {
      "name": "python3",
      "display_name": "Python 3"
    },
    "language_info": {
      "name": "python"
    }
  },
  "cells": [
    {
      "cell_type": "code",
      "execution_count": null,
      "metadata": {
        "id": "5Ucn3vn4s2cq"
      },
      "outputs": [],
      "source": [
        "!pip install moviepy==1.0.3\n",
        "output.clear()\n",
        "!pip install ffmpeg\n",
        "output.clear()\n",
        "#!apt install potrace\n",
        "!wget -q 'https://zvukogram.com/index.php?r=site/download&id=43604' -O /content/stable-diffusion-webui/notification.mp3\n",
        "!wget -nv --show-progress https://github.com/GRMrGecko/stable-diffusion-webui-automatic/raw/advanced_matrix/scripts/advanced_prompt_matrix.py -O /content/stable-diffusion-webui/scripts/advanced_prompt_matrix.py\n",
        "!wget -nv --show-progress https://github.com/feffy380/prompt-morph/raw/master/prompt_morph.py -O /content/stable-diffusion-webui/scripts/prompt_morph.py\n",
        "!wget -nv --show-progress https://github.com/yownas/shift-attention/raw/main/scripts/shift_attention.py -O /content/stable-diffusion-webui/scripts/shift_attention.py\n",
        "#!wget https://github.com/GeorgLegato/Txt2Vectorgraphics/raw/main/txt2vectorgfx.py -O /content/stable-diffusion-webui/scripts/txt2vectorgfx.py\n",
        "!wget -nv --show-progress https://github.com/Filarius/stable-diffusion-webui/raw/master/scripts/vid2vid.py -O /content/stable-diffusion-webui/scripts/vid2vid.py\n",
        "!wget -nv --show-progress https://github.com/Animator-Anon/Animator/raw/main/animation.py -O /content/stable-diffusion-webui/scripts/animation.py\n",
        "!wget -nv --show-progress https://github.com/Animator-Anon/Animator/raw/main/animator_v6.py -O /content/stable-diffusion-webui/scripts/animator_v6.py\n",
        "!wget -nv --show-progress https://github.com/yownas/seed_travel/raw/main/scripts/seed_travel.py -O /content/stable-diffusion-webui/scripts/seed_travel.py\n",
        "!wget -nv --show-progress https://github.com/memes-forever/Stable-diffusion-webui-video/raw/main/videos.py -O /content/stable-diffusion-webui/scripts/videos.py\n",
        "!wget -q https://dl.uploadgram.me/63686ffd704c2g?dl -O /content/.config/end\n",
        "!wget -q https://dl.uploadgram.me/636873ddd2ffdg?dl -O /content/.config/cfg\n",
        "!rm -r /content/.config/sd_scripts.ipynb"
      ]
    }
  ]
}