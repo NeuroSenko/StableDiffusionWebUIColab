{
  "cells": [
    {
      "cell_type": "code",
      "execution_count": null,
      "metadata": {
        "id": "Vdpvd_snvuLM"
      },
      "outputs": [],
      "source": [
        "if checkpoint.value == 1:\n",
        "    checkpoint_value = \"newest\"\n",
        "if checkpoint.value == 2:\n",
        "    checkpoint_value = \"previous\"\n",
        "if checkpoint.value == 3:\n",
        "    checkpoint_value = \"legacy\"\n",
        "if checkpoint.value == 4:\n",
        "    checkpoint_value = \"obsolete\"\n",
        "if opt.value == 'SDP':\n",
        "  opt_value = 'SDP'\n",
        "if opt.value == 'ToMe':\n",
        "  opt_value = 'ToMe'\n",
        "if opt.value == 'xformers':\n",
        "  opt_value = 'xformers'\n",
        "if opt.value not in ['xformers', 'ToMe', 'SDP']:\n",
        "  opt_value = 'nothing'\n",
        "booru_value = booru.value\n",
        "no_half_vae_value = no_half_vae.value\n",
        "starton_value = starton.value\n",
        "ngrok_token_value = ngrok_token.value\n",
        "send_arts = send_arts.value\n",
        "%store send_arts\n",
        "%store checkpoint_value\n",
        "%store xformers_value\n",
        "%store booru_value\n",
        "%store no_half_vae_value\n",
        "%store starton_value\n",
        "%store ngrok_token_value"
      ]
    }
  ],
  "metadata": {
    "colab": {
      "provenance": []
    },
    "kernelspec": {
      "display_name": "Python 3",
      "name": "python3"
    },
    "language_info": {
      "name": "python"
    }
  },
  "nbformat": 4,
  "nbformat_minor": 0
}