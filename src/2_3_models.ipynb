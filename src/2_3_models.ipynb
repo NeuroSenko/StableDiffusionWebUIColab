{
  "nbformat": 4,
  "nbformat_minor": 0,
  "metadata": {
    "colab": {
      "provenance": []
    },
    "kernelspec": {
      "name": "python3",
      "display_name": "Python 3"
    },
    "language_info": {
      "name": "python"
    }
  },
  "cells": [
    {
      "cell_type": "code",
      "execution_count": null,
      "metadata": {
        "id": "FL3_83H6B9cl"
      },
      "outputs": [],
      "source": [
        "    if checkbox.description == \"CamelliaMix\":\n",
        "      !$dl \"https://huggingface.co/2ch/models/resolve/main/CamelliaMix_Line_v2.safetensors\"\n",
        "      !$dl \"https://huggingface.co/2ch/models/resolve/main/CamelliaMix_v2.safetensors\"\n",
        "      !$dl \"https://huggingface.co/2ch/models/resolve/main/CamelliaMix_2.5D_v2.safetensors\"\n",
        "      !$dl \"https://huggingface.co/2ch/models/resolve/main/CamelliaMix_NSFW_v1.1.safetensors\"\n",
        "    if checkbox.description == \"Midnight_Mixes\":\n",
        "      !$dl \"https://huggingface.co/2ch/models/resolve/main/Midnight%20Mixer%20Melt.safetensors\"\n",
        "      !$dl \"https://huggingface.co/2ch/models/resolve/main/Midnight%20Maple.safetensors\"\n",
        "      !$dl \"https://huggingface.co/2ch/models/resolve/main/Midnight%20Melt.safetensors\""
      ]
    }
  ]
}