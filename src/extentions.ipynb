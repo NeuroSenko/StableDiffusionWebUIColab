{
  "nbformat": 4,
  "nbformat_minor": 0,
  "metadata": {
    "colab": {
      "provenance": [],
      "collapsed_sections": []
    },
    "kernelspec": {
      "name": "python3",
      "display_name": "Python 3"
    },
    "language_info": {
      "name": "python"
    }
  },
  "cells": [
    {
      "cell_type": "code",
      "execution_count": null,
      "metadata": {
        "id": "Install_Extentions"
      },
      "outputs": [],
      "source": [
        "# эстетичные градиенты\n",
        "!git clone https://github.com/AUTOMATIC1111/stable-diffusion-webui-aesthetic-gradients /content/stable-diffusion-webui/extensions/aesthetic-gradients\n",
        "# подстановочные знаки\n",
        "!git clone https://github.com/AUTOMATIC1111/stable-diffusion-webui-wildcards /content/stable-diffusion-webui/extensions/wildcards\n",
        "# дримбус\n",
        "!git clone https://github.com/PR0LAPSE/sd_dreambooth_extension /content/stable-diffusion-webui/extensions/sd_dreambooth_extension\n",
        "!mkdir /content/stable-diffusion-webui/models/dreambooth/\n",
        "!touch /content/stable-diffusion-webui/models/dreambooth/db_config.json\n",
        "# ниже необходимо только для дримбуса:\n",
        "!pip install torch==1.12.1+cu116 torchvision==0.13.1+cu116 --extra-index-url https://download.pytorch.org/whl/cu116\n",
        "!pip install -r /content/stable-diffusion-webui/extensions/sd_dreambooth_extension/requirements.txt\n",
        "# вдохновение\n",
        "!git clone https://github.com/yfszzx/stable-diffusion-webui-inspiration /content/stable-diffusion-webui/extensions/inspiration\n",
        "# дефорум (автор временно убрал совместимость с колабом, работает частично)\n",
        "!git clone https://github.com/deforum-art/deforum-for-automatic1111-webui /content/stable-diffusion-webui/extensions/deforum-for-automatic1111-webui\n",
        "if os.path.exists('/content/stable-diffusion-webui/extensions/deforum-for-automatic1111-webui/scripts/deforum/src/infer.py'):\n",
        "  !wget -q https://raw.githubusercontent.com/TheLastBen/fast-stable-diffusion/main/AUTOMATIC1111_files/deforum/animation.py -O /content/stable-diffusion-webui/extensions/deforum-for-automatic1111-webui/scripts/deforum/animation.py\n",
        "  !wget -q https://raw.githubusercontent.com/TheLastBen/fast-stable-diffusion/main/AUTOMATIC1111_files/deforum/depth.py -O /content/stable-diffusion-webui/extensions/deforum-for-automatic1111-webui/scripts/deforum/depth.py         \n",
        "  !wget -q https://raw.githubusercontent.com/TheLastBen/fast-stable-diffusion/main/AUTOMATIC1111_files/deforum/infer.py -O /content/stable-diffusion-webui/extensions/deforum-for-automatic1111-webui/scripts/deforum/src/infer.py\n",
        "# художники для изучения\n",
        "!git clone https://github.com/camenduru/stable-diffusion-webui-artists-to-study /content/stable-diffusion-webui/extensions/artists-to-study\n",
        "# оценщик эстетичности\n",
        "#!git clone https://github.com/tsngo/stable-diffusion-webui-aesthetic-image-scorer /content/stable-diffusion-webui/extensions/aesthetic-image-scorer\n",
        "# редактор тегов датасетов\n",
        "#!git clone https://github.com/toshiaki1729/stable-diffusion-webui-dataset-tag-editor /content/stable-diffusion-webui/extensions/dataset-tag-editor\n",
        "# вычленитель кадров из видео для обучения\n",
        "!git clone https://github.com/Maurdekye/training-picker /content/stable-diffusion-webui/extensions/training-picker\n",
        "# просмтор токенизации промпта\n",
        "!git clone https://github.com/AUTOMATIC1111/stable-diffusion-webui-tokenizer /content/stable-diffusion-webui/extensions/tokenizer\n",
        "# отражения и симметрия\n",
        "!git clone https://github.com/dfaker/SD-latent-mirroring /content/stable-diffusion-webui/extensions/latent-mirroring\n",
        "# редактор встраиваний (пока сыро, пропустим)\n",
        "#!git clone https://github.com/CodeExplode/stable-diffusion-webui-embedding-editor /content/stable-diffusion-webui/extensions/embedding-editor\n",
        "# динамика промпта\n",
        "!git clone https://github.com/adieyal/sd-dynamic-prompting/ /content/stable-diffusion-webui/extensions/dynamic-prompts\n",
        "!rm -r /content/.config/extentions.ipynb"
      ]
    }
  ]
}
