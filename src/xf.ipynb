{
  "nbformat": 4,
  "nbformat_minor": 0,
  "metadata": {
    "colab": {
      "provenance": []
    },
    "kernelspec": {
      "name": "python3",
      "display_name": "Python 3"
    },
    "language_info": {
      "name": "python"
    }
  },
  "cells": [
    {
      "cell_type": "code",
      "execution_count": null,
      "metadata": {
        "id": "inst_xformers"
      },
      "outputs": [],
      "source": [
        "!pip install tensorflow --quiet\n",
        "!pip install tensorflow_io --quiet\n",
        "import os\n",
        "from google.colab import output\n",
        "from subprocess import getoutput\n",
        "nsmi = getoutput('nvidia-smi')\n",
        "if 'T4' in nsmi:\n",
        "  gpu = 'ok'\n",
        "if \"NVIDIA-SMI has failed because it couldn't communicate with the NVIDIA driver. Make sure that the latest NVIDIA driver is installed and running.\" in nsmi:\n",
        "    print('\\033[01;38;05;167;48;05;232mColab запущен без видеоускорителя!!! \\033[0m')\n",
        "if (gpu=='ok'):\n",
        "  print(\"установка facebook-xformers\")\n",
        "  %pip install https://github.com/PR0LAPSE/StableDiffusionWebUIColab/raw/main/src/xformersT4.whl --quiet\n",
        "else:\n",
        "  print(\"xformers не может быть установлен с этим видеоускорителем\")\n",
        "output.clear()\n",
        "print(\"facebook-xformers установлен\")\n",
        "!rm -f /content/.config/xf.ipynb"
      ]
    }
  ]
}