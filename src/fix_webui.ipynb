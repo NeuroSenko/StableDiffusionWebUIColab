{
  "nbformat": 4,
  "nbformat_minor": 0,
  "metadata": {
    "colab": {
      "provenance": []
    },
    "kernelspec": {
      "name": "python3",
      "display_name": "Python 3"
    },
    "language_info": {
      "name": "python"
    }
  },
  "cells": [
    {
      "cell_type": "code",
      "execution_count": null,
      "metadata": {
        "id": "Bo8eJTQwSOlE"
      },
      "outputs": [],
      "source": [
        "#локализация\n",
        "!wget -q https://is.gd/localizationUI -O /content/stable-diffusion-webui/localizations/localization.json\n",
        "!wget -q https://is.gd/config_noGD  -O /content/stable-diffusion-webui/config.json\n",
        "!wget -q https://is.gd/ui_config  -O /content/stable-diffusion-webui/ui-config.json\n",
        "#фиксы\n",
        "#!wget -q https://raw.githubusercontent.com/AUTOMATIC1111/stable-diffusion-webui/master/webui.py -O /content/stable-diffusion-webui/webui.py\n",
        "#!sed -i 's@ui.create_ui().*@ui.create_ui();shared.demo.queue(concurrency_count=999999,status_update_rate=0.1)@' /content/stable-diffusion-webui/webui.py\n",
        "#!sed -i 's@\"multiple_tqdm\": true,@\\\"multiple_tqdm\": false,@' /content/stable-diffusion-webui/config.json\n",
        "#!sed -i '902s@.*@        self.logvar = self.logvar.to(self.device)@' /content/stable-diffusion-webui/ldm/models/diffusion/ddpm.py\n",
        "#!sed -i 's@cmd_opts.lowram else \\\"cuda\\\"@cmd_opts.lowram else \\\"cpu\\\"@' /content/stable-diffusion-webui/modules/shared.py\n",
        "!rm -r /content/.config/fix_webui.ipynb"
      ]
    }
  ]
}
