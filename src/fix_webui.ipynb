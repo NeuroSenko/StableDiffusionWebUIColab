{
  "nbformat": 4,
  "nbformat_minor": 0,
  "metadata": {
    "colab": {
      "provenance": [],
      "collapsed_sections": []
    },
    "kernelspec": {
      "name": "python3",
      "display_name": "Python 3"
    },
    "language_info": {
      "name": "python"
    }
  },
  "cells": [
    {
      "cell_type": "code",
      "execution_count": null,
      "metadata": {
        "id": "5Ucn3vn4s2cq"
      },
      "outputs": [],
      "source": [
        "#локализация\n",
        "!wget -q https://pst.klgrth.io/paste/egz6p/download -O /content/stable-diffusion-webui/localizations/localization.json\n",
        "!wget -q https://pst.klgrth.io/paste/qkxh6/download  -O /content/stable-diffusion-webui/config.json\n",
        "output.clear()\n",
        "#фиксы\n",
        "!wget -q https://raw.githubusercontent.com/AUTOMATIC1111/stable-diffusion-webui/master/webui.py -O /content/stable-diffusion-webui/webui.py\n",
        "!sed -i 's@gpu_call).*@gpu_call) \\n        demo.queue(concurrency_count=111500)@' /content/stable-diffusion-webui/webui.py\n",
        "!wget -q https://raw.githubusercontent.com/AUTOMATIC1111/stable-diffusion-webui/master/modules/ui.py -O /content/stable-diffusion-webui/modules/ui.py\n",
        "!sed -i 's@css = \"\".*@with open(os.path.join(script_path, \"style.css\"), \"r\", encoding=\"utf8\") as file:\\n        css = file.read()@' /content/stable-diffusion-webui/modules/ui.py\n",
        "!wget -q https://raw.githubusercontent.com/AUTOMATIC1111/stable-diffusion-webui/master/style.css -O /content/stable-diffusion-webui/style.css\n",
        "!sed -i 's@min-height: 4.*@min-height: 5.5em;@g' /content/stable-diffusion-webui/style.css\n",
        "!rm -r /content/.config/fix_webui.ipynb"
      ]
    }
  ]
}