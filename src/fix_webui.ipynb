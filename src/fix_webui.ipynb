{
  "nbformat": 4,
  "nbformat_minor": 0,
  "metadata": {
    "colab": {
      "provenance": [],
      "collapsed_sections": []
    },
    "kernelspec": {
      "name": "python3",
      "display_name": "Python 3"
    },
    "language_info": {
      "name": "python"
    }
  },
  "cells": [
    {
      "cell_type": "code",
      "execution_count": null,
      "metadata": {
        "id": "5Ucn3vn4s2cq"
      },
      "outputs": [],
      "source": [
        "#локализация\n",
        "!wget -q https://is.gd/localizationUI -O /content/stable-diffusion-webui/localizations/localization.json\n",
        "!wget -q https://is.gd/config_noGD  -O /content/stable-diffusion-webui/config.json\n",
        "!wget -q https://is.gd/ui_config  -O /content/stable-diffusion-webui/ui-config.json\n",
        "#фиксы\n",
        "!wget -q https://raw.githubusercontent.com/AUTOMATIC1111/stable-diffusion-webui/master/webui.py -O /content/stable-diffusion-webui/webui.py\n",
        "!sed -i 's@ui.create_ui().*@ui.create_ui();shared.demo.queue(concurrency_count=999999,status_update_rate=0.1)@' /content/stable-diffusion-webui/webui.py\n",
        "#!wget -q https://raw.githubusercontent.com/AUTOMATIC1111/stable-diffusion-webui/master/modules/ui.py -O /content/stable-diffusion-webui/modules/ui.py\n",
        "#!sed -i 's@css = \"\".*@with open(os.path.join(script_path, \"style.css\"), \"r\", encoding=\"utf8\") as file:\\n        css = file.read()@' /content/stable-diffusion-webui/modules/ui.py\n",
        "#!wget -q https://raw.githubusercontent.com/AUTOMATIC1111/stable-diffusion-webui/master/style.css -O /content/stable-diffusion-webui/style.css\n",
        "#!sed -i 's@min-height: 4.*@min-height: 5.5em;@g' /content/stable-diffusion-webui/style.css\n",
        "!sed -i 's@\"multiple_tqdm\": true,@\"multiple_tqdm": false,@' /content/stable-diffusion-webui/config.json\n",
        "!sed -i '902s@.*@        self.logvar = self.logvar.to(self.device)@' /content/stable-diffusion-webui/ldm/models/diffusion/ddpm.py\n",
        "!sed -i 's@cmd_opts.lowram else \"cuda\"@cmd_opts.lowram else \"cpu\"@' /content/stable-diffusion-webui/modules/shared.py\n",
        "!rm -r /content/.config/fix_webui.ipynb"
      ]
    }
  ]
}
